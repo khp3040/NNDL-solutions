{
 "cells": [
  {
   "cell_type": "markdown",
   "metadata": {},
   "source": [
    "# Chapter 5: Why are deep neural networks hard to train?"
   ]
  },
  {
   "cell_type": "markdown",
   "metadata": {},
   "source": [
    "## The vanishing gradient problem"
   ]
  },
  {
   "cell_type": "markdown",
   "metadata": {},
   "source": [
    "## What's causing the vanishing gradient problem? Unstable gradients in deep neural nets"
   ]
  },
  {
   "cell_type": "markdown",
   "metadata": {},
   "source": [
    "### Exercise 1 ([link](http://neuralnetworksanddeeplearning.com/chap5.html#exercise_255808)): avoiding the unstable gradient problem with a steeper activation function?\n",
    "\n",
    "Using our random weight initialization by a Gaussian with mean $0$ and standard deviation $1$, our weights are \"typically\" the same order of magnitude as $1$ (actually, the mean size is $\\sqrt{\\frac 2 \\pi} \\approx 0.8$).\n",
    "\n",
    "Ideally then, we'd like an activation function whose derivative is as often as possible close to $1$, so the learning speeds of each layer would be similar despite the product of many terms (all close to 1).\n",
    "\n",
    "Such an activation function wouldn't solve the unstable gradient problem (as explained in the paragraph just above this exercise in the book, the product of terms make the situation intrinsically unstable; if for some reason the weights all grow, we'll still have an exploding gradient, and a vanishing gradient if they all decrease). But it would probably help."
   ]
  },
  {
   "cell_type": "markdown",
   "metadata": {},
   "source": [
    "### Problem 1 ([link](http://neuralnetworksanddeeplearning.com/chap5.html#problems_778071)): ranges of weights and activations avoiding the vanishing gradient problem\n",
    "\n",
    "**(1)** Since $\\forall z \\in \\mathbb{R}, \\sigma'(z) \\leq \\frac 1 4$, we can only ever have $|w \\sigma'(wa+b)| \\geq 1$ when $|w| \\geq 4$.\n",
    "\n",
    "**(2)** Since $\\sigma'$ is largest around $0$, we'll get greater intervals with $b = 0$.\n",
    "\n",
    "So we want to solve:\n",
    "\n",
    "\\begin{equation*}\n",
    "    \\begin{aligned}\n",
    "        | w \\sigma'(wa)| \\geq 1 &\\iff \\sigma'(wa) \\geq \\frac{1}{|w|} \\\\\n",
    "        &\\iff \\frac{e^{-wa}}{(1 + e^{-wa})^2} \\geq \\frac{1}{|w|} \\\\\n",
    "        &\\iff 0 \\geq 1 + ( 2 - |w|) e^{-wa} + (e^{-wa})^2\n",
    "    \\end{aligned}\n",
    "\\end{equation*}\n",
    "\n",
    "Let's denote $x = e^{-wa}$.\n",
    "\n",
    "We've got a quadratic inequation: $x^2 + (2 - |w|)x + 1 \\leq 0$.\n",
    "\n",
    "The discriminant of this equation is:\n",
    "\n",
    "$$\\Delta = (2 - |w|)^2 - 4 = |w|(|w| - 4)$$\n",
    "\n",
    "If $|w| > 4$, then $\\Delta > 0$ and we have two distinct real roots that we'll note $r_1$ and $r_2$, $r_1 < r_2$.\n",
    "\n",
    "As the coefficient before $x^2$ is positive, this inequation will be satisfied for $r_1 \\leq x \\leq r_2$.\n",
    "\n",
    "Translating into $a$:\n",
    "\n",
    "\\begin{equation*}\n",
    "    \\begin{aligned}\n",
    "        r_1 \\leq e^{-wa} \\leq r_2 &\\iff \\ln r_1 \\leq -wa \\leq \\ln r_2 \\\\\n",
    "        &\\iff - \\ln r_2 \\leq wa \\leq - \\ln r_1\n",
    "    \\end{aligned}\n",
    "\\end{equation*}\n",
    "\n",
    "If $w > 0$, this is equivalent to:\n",
    "\n",
    "$$- \\frac 1 w \\ln r_2 \\leq a \\leq - \\frac 1 w \\ln r_1$$\n",
    "\n",
    "And so the width of the interval will be:\n",
    "\n",
    "$$\\frac 1 w (-\\ln r_1 + \\ln r_2) = \\frac 1 w \\ln \\frac{r_2}{r_1} = \\frac{1}{|w|} \\ln \\frac{r_2}{r_1}$$\n",
    "\n",
    "If $w < 0$, this is equivalent to:\n",
    "\n",
    "$$- \\frac 1 w \\ln r_1 \\leq a \\leq - \\frac 1 w \\ln r_2$$\n",
    "\n",
    "And so the width of the interval will be:\n",
    "\n",
    "$$- \\frac 1 w (\\ln r_2 - \\ln r_1) = - \\frac 1 w \\ln \\frac{r_2}{r_1} = \\frac{1}{|w|} \\ln \\frac{r_2}{r_1}$$\n",
    "\n",
    "So the width of the interval will always be (again, provided $|w| \\geq 4$ and $b = 0$):\n",
    "\n",
    "$$\\frac{1}{|w|} \\ln \\frac{r_2}{r_1}$$\n",
    "\n",
    "Now we know ([Vieta's formulas](https://en.wikipedia.org/wiki/Vieta%27s_formulas)) that the roots of the quadratic equation $a x^2 + bx + c = 0$ satisfy $r_1 r_2 = \\frac c a$. In our case, $r_1 r_2 = 1$.\n",
    "\n",
    "Therefore, $\\frac{1}{r_1} = r_2$ and $\\frac{r_2}{r_1} = r_2^2$. So the width of our interval can be written:\n",
    "\n",
    "$$\\frac{1}{|w|} \\ln(r_2^2) = \\frac{2}{|w|} \\ln r_2$$\n",
    "\n",
    "All we have to do now is compute $r_2$:\n",
    "\n",
    "\\begin{equation*}\n",
    "    \\begin{aligned}\n",
    "        r_2 &= \\frac{-b + \\sqrt{\\Delta}}{2a} \\\\\n",
    "        &= \\frac{|w| - 2 + \\sqrt{|w|(|w| - 4)}}{2} \\\\\n",
    "        &= \\frac{|w| \\left( 1 + \\sqrt{1 - 4/|w|} \\right)}{2} - 1\n",
    "    \\end{aligned}\n",
    "\\end{equation*}\n",
    "\n",
    "Conclusion: the set of $a$ satisfying $|w\\sigma'(wa+b)| \\geq 1$ can range over an interval no greater in width than\n",
    "\n",
    "$$\\frac{2}{|w|} \\ln\\left( \\frac{|w|(1+\\sqrt{1-4/|w|})}{2}-1\\right)$$\n",
    "\n",
    "**(3)** Let's plot the function (which is a very imprecise, but visual, way of numerically determining a maximum):"
   ]
  },
  {
   "cell_type": "code",
   "execution_count": 2,
   "metadata": {},
   "outputs": [
    {
     "data": {
      "image/png": "[encoded data removed]",
      "text/plain": [
       "<Figure size 432x288 with 1 Axes>"
      ]
     },
     "metadata": {},
     "output_type": "display_data"
    }
   ],
   "source": [
    "import numpy as np\n",
    "import matplotlib.pyplot as plt\n",
    "import math\n",
    "\n",
    "def f(x):\n",
    "    return 2 / x * math.log(x / 2 * (1 + math.sqrt(1 - 4 / x)) - 1)\n",
    "\n",
    "X = np.arange(4.0, 14.0, 0.05)\n",
    "Y = np.array([f(x) for x in X])\n",
    "\n",
    "plt.plot(X, Y)\n",
    "plt.show()"
   ]
  },
  {
   "cell_type": "markdown",
   "metadata": {},
   "source": [
    "We see that the maximum is around $|w| = 7$. Being more precise:"
   ]
  },
  {
   "cell_type": "code",
   "execution_count": 3,
   "metadata": {},
   "outputs": [
    {
     "data": {
      "image/png": "[encoded data removed]",
      "text/plain": [
       "<Figure size 432x288 with 1 Axes>"
      ]
     },
     "metadata": {},
     "output_type": "display_data"
    }
   ],
   "source": [
    "import numpy as np\n",
    "import matplotlib.pyplot as plt\n",
    "import math\n",
    "\n",
    "def f(x):\n",
    "    return 2 / x * math.log(x / 2 * (1 + math.sqrt(1 - 4 / x)) - 1)\n",
    "\n",
    "X = np.arange(6.5, 7.5, 0.01)\n",
    "Y = np.array([f(x) for x in X])\n",
    "\n",
    "plt.plot(X, Y)\n",
    "plt.show()"
   ]
  },
  {
   "cell_type": "markdown",
   "metadata": {},
   "source": [
    "We see that the width is greatest at $|w| \\approx 6.9$, where it takes a value $\\approx 0.45$."
   ]
  }
 ],
 "metadata": {
  "kernelspec": {
   "display_name": "Python 3",
   "language": "python",
   "name": "python3"
  },
  "language_info": {
   "codemirror_mode": {
    "name": "ipython",
    "version": 3
   },
   "file_extension": ".py",
   "mimetype": "text/x-python",
   "name": "python",
   "nbconvert_exporter": "python",
   "pygments_lexer": "ipython3",
   "version": "3.6.5"
  }
 },
 "nbformat": 4,
 "nbformat_minor": 2
}
