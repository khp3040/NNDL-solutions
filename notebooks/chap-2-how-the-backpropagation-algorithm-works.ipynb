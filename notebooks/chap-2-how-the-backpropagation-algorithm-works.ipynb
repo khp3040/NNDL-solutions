{
 "cells": [
  {
   "cell_type": "markdown",
   "metadata": {},
   "source": [
    "# Chapter 2: How the backpropagation algorithm works"
   ]
  },
  {
   "cell_type": "markdown",
   "metadata": {},
   "source": [
    "## Warm up: a fast matrix-based approach to computing the output from a neural network"
   ]
  },
  {
   "cell_type": "markdown",
   "metadata": {},
   "source": [
    "## The two assumptions we need about the cost function"
   ]
  },
  {
   "cell_type": "markdown",
   "metadata": {},
   "source": [
    "## The Hadamard product"
   ]
  },
  {
   "cell_type": "markdown",
   "metadata": {},
   "source": [
    "## The four fundamental equations behind backpropagation"
   ]
  },
  {
   "cell_type": "markdown",
   "metadata": {},
   "source": [
    "### Problem 1 ([link](http://neuralnetworksanddeeplearning.com/chap2.html#problem_563815)): alternate presentation of the equations of backpropagation\n",
    "\n",
    "* Transforming **BP1**: $\\delta^L = \\sigma'(z^L) \\odot \\nabla_a C$ can be rewritten as $\\delta^L = \\Sigma'(z^L) \\nabla_a C$\n",
    "\n",
    "This is actually a particular case of the following, which stems from the definition of matrix multiplication:\n",
    "\n",
    "If $X = \n",
    "\\begin{pmatrix}x_1 \\\\ x_2 \\\\ \\ldots \\\\ x_n \\end{pmatrix}$\n",
    "and $Y = \n",
    "\\begin{pmatrix}y_1 \\\\ y_2 \\\\ \\ldots \\\\ y_n \\end{pmatrix}$\n",
    "then $X \\odot Y = Y \\odot X = \\sum\\limits_{k=1}^n x_k y_k = \n",
    "\\begin{pmatrix}x_1 & 0 & & \\ldots\\\\0 & x_2 & & \\\\ & & \\ddots & \\\\ \\ldots & & & x_n\\end{pmatrix}\n",
    "\\begin{pmatrix}y_1 \\\\ y_2 \\\\ \\ldots \\\\ y_n \\end{pmatrix}$\n",
    "\n",
    "* Transforming **BP2**: this is the exact same reasoning.\n",
    "\n",
    "* Now to prove the last equation, we only have to repeatedly replace $\\delta^{l+1}$ in $\\delta^l = \\Sigma'(z^l) (w^{l+1})^T \\delta^{l+1}$ with $\\Sigma'(z^{l+1}) (w^{l+2})^T \\delta^{l+2}$ until reaching $l+1 = L$, then using $\\delta^L = \\sigma'(z^L) \\odot \\nabla_a C$ to finally get:\n",
    "\n",
    "\\begin{eqnarray}\n",
    "    \\delta^l = \\Sigma'(z^l) (w^{l+1})^T \\ldots \\Sigma'(z^{L-1}) (w^L)^T \n",
    "    \\Sigma'(z^L) \\nabla_a C\n",
    "\\end{eqnarray}"
   ]
  },
  {
   "cell_type": "markdown",
   "metadata": {},
   "source": [
    "### Exercise 1 ([link](http://neuralnetworksanddeeplearning.com/chap2.html#exercise_392831)): prove equations BP3 and BP4\n",
    "\n",
    "* **BP3**: $\\frac{\\partial C}{\\partial b^l_j} = \\delta^l_j$\n",
    "\n",
    "By definition, $\\delta_j^l = \\frac{\\partial C}{\\partial z_j^l}$.\n",
    "\n",
    "Applying the chain rule, we can write this in terms of partial derivatives with respect to the biases of every neuron in layer $l$:\n",
    "\n",
    "$$\\delta_j^l = \\sum_k \\frac{\\partial C}{\\partial b_k^l} \\frac{\\partial b_k^l}{\\partial z_j^l}$$.\n",
    "\n",
    "Since $b_k^l$ depends only on $z_k^l$, all terms in this sum are null, except the one where $k = j$:\n",
    "\n",
    "$$\\delta_j^l = \\frac{\\partial C}{\\partial b_j^l} \\frac{\\partial b_j^l}{\\partial z_j^l}$$.\n",
    "\n",
    "Now since $z^l_j = \\sum_k w^l_{jk} a^{l-1}_k+b^l_j$, and therefore $b^l_j = z^l_j - \\sum_k w^l_{jk} a^{l-1}_k$, we have $\\frac{\\partial b_j^l}{\\partial z_j^l} = 1$.\n",
    "\n",
    "This gives us **BP3**: \n",
    "\n",
    "$$\\frac{\\partial C}{\\partial b^l_j} = \\delta^l_j$$\n",
    "\n",
    "* **BP4**: $\\frac{\\partial C}{\\partial w^l_{jk}} = a^{l-1}_k \\delta^l_j$\n",
    "\n",
    "As previously, $w_{jk}^l$ only affects only $z_j^l$, so let's drop the sum right away and write the chain rule as:\n",
    "\n",
    "$$\\frac{\\partial C}{\\partial w_{jk}^l} = \\frac{\\partial C}{\\partial z_j^l} \\frac{\\partial z_j^l}{\\partial w_{jk}^l}$$\n",
    "\n",
    "By definition, $\\frac{\\partial C}{\\partial z_j^l}$ is $\\delta_j^l$ and since $z^l_j = \\sum_k w^l_{jk} a^{l-1}_k+b^l_j$, we have $\\frac{\\partial z_j^l}{\\partial w_{jk}^l} = a_k^{l-1}$.\n",
    "\n",
    "And so we have **BP4**:\n",
    "\n",
    "$$\\frac{\\partial C}{\\partial w^l_{jk}} = a^{l-1}_k \\delta^l_j$$"
   ]
  }
 ],
 "metadata": {
  "kernelspec": {
   "display_name": "Python 3",
   "language": "python",
   "name": "python3"
  },
  "language_info": {
   "codemirror_mode": {
    "name": "ipython",
    "version": 3
   },
   "file_extension": ".py",
   "mimetype": "text/x-python",
   "name": "python",
   "nbconvert_exporter": "python",
   "pygments_lexer": "ipython3",
   "version": "3.6.5"
  }
 },
 "nbformat": 4,
 "nbformat_minor": 2
}
