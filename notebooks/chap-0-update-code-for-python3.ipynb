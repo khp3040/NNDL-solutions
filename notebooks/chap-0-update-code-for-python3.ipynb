{
 "cells": [
  {
   "cell_type": "markdown",
   "metadata": {},
   "source": [
    "# Chapter 0: Update the code for Python 3"
   ]
  },
  {
   "cell_type": "markdown",
   "metadata": {},
   "source": [
    "The book was written with Python 2 code. Let's make all the changes needed for Python 3 compatibility at once.\n",
    "\n",
    "Here's what you need to do:"
   ]
  },
  {
   "cell_type": "markdown",
   "metadata": {},
   "source": [
    "## Option 1: use my files in original-python-3"
   ]
  },
  {
   "cell_type": "markdown",
   "metadata": {},
   "source": [
    "The only modifications I've made in these files is updating them for Python 3 (specifically, I did the changes below)."
   ]
  },
  {
   "cell_type": "markdown",
   "metadata": {},
   "source": [
    "## Option 2: make all the changes manually"
   ]
  },
  {
   "cell_type": "markdown",
   "metadata": {},
   "source": [
    "* Replace all (<kbd>Ctrl</kbd> + <kbd>H</kbd> will usually work) ```xrange``` with ```range``` (files *conv.py*, *network.py*, *network2.py*, *network3.py*);\n",
    "* Replace all ```print \"whatever\"``` with ```print(\"whatever\")``` (files *mnist_average_darkness.py*, *mnist_svm.py*, *network.py*, *network2.py*, *network3.py*);\n",
    "* Replace all ```cPickle``` with ```pickle``` (files *expand_mnist.py*, *mnist_loader.py*, *network3.py*);\n",
    "* Replace ```return -T.mean(T.log(self.output_dropout)[T.arange(net.y.shape[0]), net.y])``` with ```return T.mean(-T.log(self.output_dropout)[T.arange(net.y.shape[0]), net.y])``` (*network3.py*);\n",
    "* Replace ```np.random.RandomState(0).randint(999999)``` with ```np.random.randint(999999)``` (*network3.py*);\n",
    "* Replace ```iteritems()``` with ```items()``` (*mnist_average_darkness.py*);\n",
    "* Replace ```all_test_predictions = zip(*[net.test_predictions for net in nets])```with ```all_test_predictions = list(zip(*[net.test_predictions for net in nets]))``` (*conv.py*);\n",
    "* Replace ```from theano.tensor.signal import downsample``` with ```from theano.tensor.signal.pool import pool_2d``` (*network3.py*);\n",
    "* Replace ```pooled_out = downsample.max_pool_2d(``` with ```pooled_out = pool_2d(``` (*network3.py*)"
   ]
  },
  {
   "cell_type": "code",
   "execution_count": null,
   "metadata": {},
   "outputs": [],
   "source": []
  }
 ],
 "metadata": {
  "kernelspec": {
   "display_name": "Python 3",
   "language": "python",
   "name": "python3"
  },
  "language_info": {
   "codemirror_mode": {
    "name": "ipython",
    "version": 3
   },
   "file_extension": ".py",
   "mimetype": "text/x-python",
   "name": "python",
   "nbconvert_exporter": "python",
   "pygments_lexer": "ipython3",
   "version": "3.6.5"
  }
 },
 "nbformat": 4,
 "nbformat_minor": 2
}
